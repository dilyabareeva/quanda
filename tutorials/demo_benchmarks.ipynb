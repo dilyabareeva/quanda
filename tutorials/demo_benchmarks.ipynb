{
 "cells": [
  {
   "cell_type": "markdown",
   "metadata": {},
   "source": [
    "![quanda_benchmarks_demo.png](attachment:quanda_benchmarks_demo.png)"
   ]
  },
  {
   "cell_type": "markdown",
   "id": "dc8bc781",
   "metadata": {
    "collapsed": true
   },
   "source": [
    "In this notebook, we will go through the different ways of creating an evaluation benchmark and comparing different attributors with it. First, we take the most straightforward route and go over the process of downloading a precomputed quanda benchmark for data attribution evaluation. This way, you can quickly write a quanda wrapper for your explainer and evaluate it against the existing explainers in the controlled setups we have prepared for you.\n",
    "\n",
    "Afterwards, we will go through the steps of assembling a benchmark from existing components. This option allows you to create your own controlled setup, and use quanda benchmarks for evaluation of different data attributors.\n",
    "\n",
    "Finally, we will summarize how to create your setup using quanda benchmarks, which includes managing datasets, training models and running evaluations.\n",
    "\n",
    "Throughout this tutorial, we will be using a LeNet model trained on the MNIST dataset."
   ]
  },
  {
   "cell_type": "markdown",
   "id": "377c75d5",
   "metadata": {},
   "source": [
    "We first handle our include statements."
   ]
  },
  {
   "cell_type": "code",
   "execution_count": 27,
   "id": "70692853",
   "metadata": {},
   "outputs": [],
   "source": [
    "import os\n",
    "import sys\n",
    "\n",
    "sys.path.append(\"/home/yolcu/Documents/Code/quanda\")\n",
    "\n",
    "import torch\n",
    "import torchvision\n",
    "from quanda.benchmarks.downstream_eval import ShortcutDetection\n",
    "from quanda.explainers.wrappers import (\n",
    "    TRAK,\n",
    "    CaptumArnoldi,\n",
    "    CaptumSimilarity,\n",
    "    CaptumTracInCPFast,\n",
    "    RepresenterPoints,\n",
    ")\n",
    "\n"
   ]
  },
  {
   "cell_type": "code",
   "execution_count": 28,
   "id": "9f3d5ae4",
   "metadata": {},
   "outputs": [],
   "source": [
    "torch.set_float32_matmul_precision(\"medium\")\n",
    "to_img = torchvision.transforms.Compose([\n",
    "    torchvision.transforms.Normalize(mean=0.0, std=2.),\n",
    "    torchvision.transforms.Normalize(mean=-0.5, std=1.),\n",
    "    torchvision.transforms.ToPILImage(),\n",
    "    torchvision.transforms.Resize((224, 224)),])"
   ]
  },
  {
   "cell_type": "markdown",
   "id": "e1efc6e9",
   "metadata": {},
   "source": [
    "# Downloading Precomputed Benchmarks\n",
    "In this part of the tutorial, we will use the Shortcut Detection metric.\n",
    "\n",
    "We will use the benchmark corresponding to this metric to evaluate all data attributors currently included in quanda in terms of their ability to detect when the model is using a shortcut.\n",
    "\n",
    "We will download the precomputed MNIST benchmark. This includes an MNIST dataset which has shortcut features (an 8-by-8 white box on a specific location) on a subset of its samples from the class 0, and a model trained on this dataset. This model has learned to classify images with these features to the class 0, and we will measure the extent to which this is reflected in the attributions of different methods."
   ]
  },
  {
   "cell_type": "code",
   "execution_count": 29,
   "id": "1043f55a",
   "metadata": {},
   "outputs": [
    {
     "name": "stderr",
     "output_type": "stream",
     "text": [
      "/home/yolcu/Documents/Code/quanda/quanda/benchmarks/base.py:88: FutureWarning: You are using `torch.load` with `weights_only=False` (the current default value), which uses the default pickle module implicitly. It is possible to construct malicious pickle data which will execute arbitrary code during unpickling (See https://github.com/pytorch/pytorch/blob/main/SECURITY.md#untrusted-models for more details). In a future release, the default value for `weights_only` will be flipped to `True`. This limits the functions that could be executed during unpickling. Arbitrary objects will no longer be allowed to be loaded via this mode unless they are explicitly allowlisted by the user via `torch.serialization.add_safe_globals`. We recommend you start setting `weights_only=True` for any use case where you don't have full control of the loaded file. Please open an issue on GitHub for any issues related to this experimental feature.\n",
      "  return torch.load(os.path.join(cache_dir, name + \".pth\"), map_location=device)\n"
     ]
    }
   ],
   "source": [
    "cache_dir = str(os.path.join(os.getcwd(), \"quanda_benchmark_tutorial_cache\"))\n",
    "device=\"cuda\"\n",
    "benchmark = ShortcutDetection.download(\n",
    "    name=\"mnist_shortcut_detection\",\n",
    "    cache_dir=cache_dir,\n",
    "    device=device,\n",
    ")"
   ]
  },
  {
   "cell_type": "markdown",
   "id": "fe371b0c",
   "metadata": {},
   "source": [
    "The benchmark object contains all information about the controlled evaluation setup. Let's see some samples with the shortcut features, using benchmark.feature_dataset and benchmark.shortcut_indices. "
   ]
  },
  {
   "cell_type": "code",
   "execution_count": 30,
   "id": "c99a9103",
   "metadata": {},
   "outputs": [
    {
     "data": {
      "image/jpeg": "[encoded data removed]",
      "image/png": "[encoded data removed]",
      "text/plain": [
       "<PIL.Image.Image image mode=RGB size=224x224>"
      ]
     },
     "execution_count": 30,
     "metadata": {},
     "output_type": "execute_result"
    }
   ],
   "source": [
    "shortcut_img = benchmark.shortcut_dataset[benchmark.shortcut_indices[15]][0]\n",
    "tensor_img=torch.concat([shortcut_img,shortcut_img,shortcut_img],dim=0)\n",
    "img=to_img(tensor_img)\n",
    "img"
   ]
  },
  {
   "cell_type": "code",
   "execution_count": 31,
   "id": "d2f4e896",
   "metadata": {},
   "outputs": [
    {
     "data": {
      "text/plain": [
       "tensor(0.9986)"
      ]
     },
     "execution_count": 31,
     "metadata": {},
     "output_type": "execute_result"
    }
   ],
   "source": [
    "predictions = []\n",
    "for i in benchmark.shortcut_indices:\n",
    "    x,y = benchmark.shortcut_dataset[i]\n",
    "    x=x.to(device)\n",
    "    benchmark.model(x[None])\n",
    "    predictions.append(benchmark.model(x[None]).argmax().item())\n",
    "predictions=torch.tensor(predictions)\n",
    "shortcut_rate=torch.mean((predictions==benchmark.shortcut_cls)*1.0)\n",
    "shortcut_rate"
   ]
  },
  {
   "cell_type": "markdown",
   "id": "ea369608",
   "metadata": {},
   "source": [
    "## Prepare initialization parameters for TDA methods\n",
    "\n",
    "We now prepare the initialization parameters of attributors: hyperparameters, and components from the benchmark as needed. Note that we do not provide the model and dataset to use for attribution, since those components will be supplied by the benchmark objects, while initializing the attributor during evaluation."
   ]
  },
  {
   "cell_type": "markdown",
   "id": "ddc91dc4",
   "metadata": {},
   "source": [
    "### Similarity Influence"
   ]
  },
  {
   "cell_type": "code",
   "execution_count": 32,
   "id": "c59e012a",
   "metadata": {},
   "outputs": [],
   "source": [
    "captum_similarity_args = {\n",
    "    \"model_id\": \"mnist_shortcut_detection_tutorial\",\n",
    "    \"layers\": \"model.fc_2\",\n",
    "    \"cache_dir\": os.path.join(cache_dir, \"captum_similarity\"),\n",
    "}"
   ]
  },
  {
   "cell_type": "markdown",
   "id": "87ef1e78",
   "metadata": {},
   "source": [
    "### Arnoldi Influence Functions\n",
    "\n",
    "Notice that the trained checkpoints have been saved to the `cache_dir` while downloading the benchmark. We can reach the paths of these checkpoints with `benchmark.checkpoint_paths`"
   ]
  },
  {
   "cell_type": "code",
   "execution_count": 33,
   "id": "9439b6d9",
   "metadata": {},
   "outputs": [],
   "source": [
    "hessian_num_samples=500 # number of samples to use for hessian estimation\n",
    "hessian_ds=torch.utils.data.Subset(benchmark.shortcut_dataset, torch.randint(0, len(benchmark.shortcut_dataset), (hessian_num_samples,)))\n",
    "\n",
    "captum_influence_args = {\n",
    "        \"checkpoint\": benchmark.checkpoint_paths[-1],\n",
    "        \"layers\": [\"model.fc_3\"],\n",
    "        \"batch_size\": 8,\n",
    "        \"hessian_dataset\": hessian_ds,\n",
    "        \"projection_dim\": 5,\n",
    "}"
   ]
  },
  {
   "cell_type": "markdown",
   "id": "a2fd5356",
   "metadata": {},
   "source": [
    "### TracInCP"
   ]
  },
  {
   "cell_type": "code",
   "execution_count": 34,
   "id": "7d3963d2",
   "metadata": {},
   "outputs": [],
   "source": [
    "captum_tracin_args = {\n",
    "    \"final_fc_layer\": \"model.fc_3\",\n",
    "    \"loss_fn\": torch.nn.CrossEntropyLoss(reduction=\"mean\"),\n",
    "    \"checkpoints\": benchmark.checkpoint_paths,\n",
    "    \"batch_size\": 8,\n",
    "}"
   ]
  },
  {
   "cell_type": "markdown",
   "id": "fe480a29",
   "metadata": {},
   "source": [
    "### TRAK"
   ]
  },
  {
   "cell_type": "code",
   "execution_count": 35,
   "id": "4430e5a8",
   "metadata": {},
   "outputs": [],
   "source": [
    "trak_args = {\n",
    "    \"model_id\": \"mnist_shortcut_detection\",\n",
    "    \"cache_dir\": os.path.join(cache_dir, \"trak\"),\n",
    "    \"batch_size\": 8,\n",
    "    \"proj_dim\": 5,\n",
    "}"
   ]
  },
  {
   "cell_type": "markdown",
   "id": "0ea6de8e",
   "metadata": {},
   "source": [
    "### Representer Points Selection"
   ]
  },
  {
   "cell_type": "code",
   "execution_count": 36,
   "id": "5287f89e",
   "metadata": {},
   "outputs": [],
   "source": [
    "representer_points_args = {\n",
    "    \"model_id\": \"mnist_shortcut_detection\",\n",
    "    \"cache_dir\": os.path.join(cache_dir, \"representer_points\"),\n",
    "    \"batch_size\": 8,\n",
    "    \"features_layer\": \"model.relu_4\",\n",
    "    \"classifier_layer\": \"model.fc_3\",\n",
    "}"
   ]
  },
  {
   "cell_type": "markdown",
   "id": "417f773a",
   "metadata": {},
   "source": [
    "## Run the benchmark evaluation on the attributors\n",
    "Note that some attributors take a long time to initialize or compute attributions. For a proof of concept, we recommend using `CaptumSimilarity` or `RepresenterPoints`, or lowering the parameter values given above (i.e. using low `proj_dim` for TRAK or a low Hessian dataset size for Arnoldi Influence)"
   ]
  },
  {
   "cell_type": "code",
   "execution_count": 39,
   "id": "d020f5be",
   "metadata": {},
   "outputs": [],
   "source": [
    "attributors={\n",
    "    # please comment out the explainers you are not interested in\n",
    "    #\"captum_similarity\": (CaptumSimilarity, captum_similarity_args),\n",
    "    #\"captum_arnoldi\" : (CaptumArnoldi, captum_influence_args),\n",
    "    #\"captum_tracin\" : (CaptumTracInCPFast, captum_tracin_args),\n",
    "    \"trak\" : (TRAK, trak_args),\n",
    "    #\"representer\" : (RepresenterPoints, representer_points_args),\n",
    "}"
   ]
  },
  {
   "cell_type": "code",
   "execution_count": 46,
   "id": "1b50409a",
   "metadata": {},
   "outputs": [
    {
     "name": "stderr",
     "output_type": "stream",
     "text": [
      "2024-09-28 17:52:36,774 - root - INFO - Initializing TRAK explainer...\n",
      "2024-09-28 17:52:36,808 - STORE - INFO - Existing model IDs in /home/yolcu/Documents/Code/quanda/tutorials/quanda_benchmark_tutorial_cache/trak: [0]\n",
      "2024-09-28 17:52:36,810 - STORE - INFO - Model IDs that have been finalized: [0]\n",
      "2024-09-28 17:52:36,811 - STORE - INFO - No existing TRAK scores in /home/yolcu/Documents/Code/quanda/tutorials/quanda_benchmark_tutorial_cache/trak.\n",
      "Finalizing features for all model IDs..:   0%|          | 0/1 [00:00<?, ?it/s]2024-09-28 17:53:14,275 - TRAK - WARNING - Model ID 0 already finalized, skipping .finalize_features for it.\n",
      "Finalizing features for all model IDs..: 100%|██████████| 1/1 [00:00<00:00, 804.59it/s]\n",
      "Metric evaluation, batch 1/1:   0%|          | 0/1 [01:06<?, ?it/s]\n"
     ]
    },
    {
     "ename": "RuntimeError",
     "evalue": "Expected all tensors to be on the same device, but found at least two devices, cuda:0 and cpu!",
     "output_type": "error",
     "traceback": [
      "\u001b[0;31m---------------------------------------------------------------------------\u001b[0m",
      "\u001b[0;31mRuntimeError\u001b[0m                              Traceback (most recent call last)",
      "Cell \u001b[0;32mIn[46], line 3\u001b[0m\n\u001b[1;32m      1\u001b[0m results\u001b[38;5;241m=\u001b[39m\u001b[38;5;28mdict\u001b[39m()\n\u001b[1;32m      2\u001b[0m \u001b[38;5;28;01mfor\u001b[39;00m name, (\u001b[38;5;28mcls\u001b[39m, kwargs) \u001b[38;5;129;01min\u001b[39;00m attributors\u001b[38;5;241m.\u001b[39mitems():\n\u001b[0;32m----> 3\u001b[0m     results[name] \u001b[38;5;241m=\u001b[39m \u001b[43mbenchmark\u001b[49m\u001b[38;5;241;43m.\u001b[39;49m\u001b[43mevaluate\u001b[49m\u001b[43m(\u001b[49m\n\u001b[1;32m      4\u001b[0m \u001b[43m        \u001b[49m\u001b[43mexplainer_cls\u001b[49m\u001b[38;5;241;43m=\u001b[39;49m\u001b[38;5;28;43mcls\u001b[39;49m\u001b[43m,\u001b[49m\n\u001b[1;32m      5\u001b[0m \u001b[43m        \u001b[49m\u001b[43mexpl_kwargs\u001b[49m\u001b[38;5;241;43m=\u001b[39;49m\u001b[43mkwargs\u001b[49m\u001b[43m,\u001b[49m\n\u001b[1;32m      6\u001b[0m \u001b[43m        \u001b[49m\u001b[43mbatch_size\u001b[49m\u001b[38;5;241;43m=\u001b[39;49m\u001b[38;5;241;43m128\u001b[39;49m\n\u001b[1;32m      7\u001b[0m \u001b[43m    \u001b[49m\u001b[43m)\u001b[49m[\u001b[38;5;124m\"\u001b[39m\u001b[38;5;124mscore\u001b[39m\u001b[38;5;124m\"\u001b[39m]\n",
      "File \u001b[0;32m~/Documents/Code/quanda/quanda/benchmarks/downstream_eval/shortcut_detection.py:462\u001b[0m, in \u001b[0;36mShortcutDetection.evaluate\u001b[0;34m(self, explainer_cls, expl_kwargs, batch_size)\u001b[0m\n\u001b[1;32m    456\u001b[0m         targets \u001b[38;5;241m=\u001b[39m labels\n\u001b[1;32m    458\u001b[0m     explanations \u001b[38;5;241m=\u001b[39m explainer\u001b[38;5;241m.\u001b[39mexplain(\n\u001b[1;32m    459\u001b[0m         test\u001b[38;5;241m=\u001b[39m\u001b[38;5;28minput\u001b[39m,\n\u001b[1;32m    460\u001b[0m         targets\u001b[38;5;241m=\u001b[39mtargets,\n\u001b[1;32m    461\u001b[0m     )\n\u001b[0;32m--> 462\u001b[0m     \u001b[43mmetric\u001b[49m\u001b[38;5;241;43m.\u001b[39;49m\u001b[43mupdate\u001b[49m\u001b[43m(\u001b[49m\u001b[43mexplanations\u001b[49m\u001b[43m,\u001b[49m\u001b[43m \u001b[49m\u001b[43mtest_tensor\u001b[49m\u001b[38;5;241;43m=\u001b[39;49m\u001b[38;5;28;43minput\u001b[39;49m\u001b[43m,\u001b[49m\u001b[43m \u001b[49m\u001b[43mtest_labels\u001b[49m\u001b[38;5;241;43m=\u001b[39;49m\u001b[43mlabels\u001b[49m\u001b[43m)\u001b[49m\n\u001b[1;32m    464\u001b[0m \u001b[38;5;28;01mreturn\u001b[39;00m metric\u001b[38;5;241m.\u001b[39mcompute()\n",
      "File \u001b[0;32m~/Documents/Code/quanda/quanda/metrics/downstream_eval/shortcut_detection.py:110\u001b[0m, in \u001b[0;36mShortcutDetectionMetric.update\u001b[0;34m(self, explanations, test_tensor, test_labels)\u001b[0m\n\u001b[1;32m    108\u001b[0m \u001b[38;5;28;01mif\u001b[39;00m \u001b[38;5;28mself\u001b[39m\u001b[38;5;241m.\u001b[39mfilter_by_prediction:\n\u001b[1;32m    109\u001b[0m     pred_cls \u001b[38;5;241m=\u001b[39m \u001b[38;5;28mself\u001b[39m\u001b[38;5;241m.\u001b[39mmodel(test_tensor)\u001b[38;5;241m.\u001b[39margmax(dim\u001b[38;5;241m=\u001b[39m\u001b[38;5;241m1\u001b[39m)\n\u001b[0;32m--> 110\u001b[0m     \u001b[43mselect_idx\u001b[49m\u001b[43m \u001b[49m\u001b[38;5;241;43m*\u001b[39;49m\u001b[38;5;241;43m=\u001b[39;49m\u001b[43m \u001b[49m\u001b[43mpred_cls\u001b[49m\u001b[43m \u001b[49m\u001b[38;5;241;43m==\u001b[39;49m\u001b[43m \u001b[49m\u001b[38;5;28;43mself\u001b[39;49m\u001b[38;5;241;43m.\u001b[39;49m\u001b[43mshortcut_cls\u001b[49m\n\u001b[1;32m    111\u001b[0m \u001b[38;5;28;01mif\u001b[39;00m \u001b[38;5;28mself\u001b[39m\u001b[38;5;241m.\u001b[39mfilter_by_class:\n\u001b[1;32m    112\u001b[0m     select_idx \u001b[38;5;241m*\u001b[39m\u001b[38;5;241m=\u001b[39m test_labels \u001b[38;5;241m!=\u001b[39m \u001b[38;5;28mself\u001b[39m\u001b[38;5;241m.\u001b[39mshortcut_cls\n",
      "\u001b[0;31mRuntimeError\u001b[0m: Expected all tensors to be on the same device, but found at least two devices, cuda:0 and cpu!"
     ]
    }
   ],
   "source": [
    "results=dict()\n",
    "for name, (cls, kwargs) in attributors.items():\n",
    "    results[name] = benchmark.evaluate(\n",
    "        explainer_cls=cls,\n",
    "        expl_kwargs=kwargs,\n",
    "        batch_size=128\n",
    "    )[\"score\"]"
   ]
  },
  {
   "cell_type": "markdown",
   "id": "34c5981b",
   "metadata": {},
   "source": [
    "The `results` dictionary contains the results of the evaluation. The keys are the names of the explainers and the values are dictionaries containing the results."
   ]
  },
  {
   "cell_type": "code",
   "execution_count": null,
   "id": "2bfdd374",
   "metadata": {},
   "outputs": [],
   "source": [
    "results"
   ]
  },
  {
   "cell_type": "markdown",
   "id": "1fe01197",
   "metadata": {},
   "source": [
    "# Assembling a benchmark from existing components"
   ]
  },
  {
   "cell_type": "markdown",
   "id": "59a1833a",
   "metadata": {},
   "source": [
    "You may want to handle the creation of each component differently, using different datasets, architectures, training paradigms or a higher/lower percentage of manipulated samples. We now showcase how to create and use a quanda `Benchmark` object to use these components in the evaluation process.\n",
    "\n",
    "To showcase different benchmarks, we will now switch to the `MislabelingDetection` benchmark. This benchmark evaluates the ability of data atttribution methods to identify mislabeled samples in the training dataset. This is done by ranking the training data using local attributors. Original papers propose either using self-influence (i.e. the attribution of training samples on themselves) or some special methodology for each explainer (i.e. the global coefficients of the surrogate model in Representer Points). Quanda includes efficient implementation of self-influence or other strategies proposed in the original papers, whenever possible.\n",
    "\n",
    "Instead of creating the components from scratch, we will again download the benchmark and use collect the prepared components. We will then use the `MislabelingDetection.assemble` method to create the benchmark. Note that this is exactly what is happening when we are creating a benchmark using the `download` method."
   ]
  },
  {
   "cell_type": "code",
   "execution_count": 45,
   "id": "3812734a",
   "metadata": {},
   "outputs": [
    {
     "data": {
      "text/plain": [
       "'cuda'"
      ]
     },
     "execution_count": 45,
     "metadata": {},
     "output_type": "execute_result"
    }
   ],
   "source": [
    "device"
   ]
  },
  {
   "cell_type": "code",
   "execution_count": null,
   "id": "d860e0bb",
   "metadata": {},
   "outputs": [],
   "source": []
  }
 ],
 "metadata": {
  "kernelspec": {
   "display_name": "Python 3 (ipykernel)",
   "language": "python",
   "name": "python3"
  },
  "language_info": {
   "codemirror_mode": {
    "name": "ipython",
    "version": 3
   },
   "file_extension": ".py",
   "mimetype": "text/x-python",
   "name": "python",
   "nbconvert_exporter": "python",
   "pygments_lexer": "ipython3",
   "version": "3.11.9"
  }
 },
 "nbformat": 4,
 "nbformat_minor": 5
}
