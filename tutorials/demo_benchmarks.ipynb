{
 "cells": [
  {
   "cell_type": "markdown",
   "source": [
    "![title](\"assets/demo/quanda_benchmarks_demo.png\")"
   ],
   "metadata": {
    "collapsed": false
   },
   "id": "1a59e422bb0b2c3d"
  },
  {
   "cell_type": "markdown",
   "id": "377c75d5",
   "metadata": {},
   "source": [
    "In this notebook, we will go through the different ways of creating an evaluation benchmark and comparing different attributors with it. First, we take the most straightforward route and go over the process of downloading a precomputed quanda benchmark for data attribution evaluation. This way, you can quickly write a quanda wrapper for your explainer and evaluate it against the existing explainers in the controlled setups we have prepared for you.\n",
    "\n",
    "Afterwards, we will go through the steps of assembling a benchmark from existing components. This option allows you to create your own controlled setup, and use quanda benchmarks for evaluation of different data attributors.\n",
    "\n",
    "Finally, we will summarize how to create your setup using quanda benchmarks, which includes managing datasets, training models and running evaluations.\n",
    "\n",
    "Throughout this tutorial, we will be using a LeNet model trained on the MNIST dataset.\n",
    "\n",
    "We first handle our include statements."
   ]
  },
  {
   "cell_type": "code",
   "execution_count": 1,
   "id": "70692853",
   "metadata": {},
   "outputs": [
    {
     "name": "stderr",
     "output_type": "stream",
     "text": [
      "/home/yolcu/miniconda3/envs/quanda/lib/python3.11/site-packages/tqdm/auto.py:21: TqdmWarning: IProgress not found. Please update jupyter and ipywidgets. See https://ipywidgets.readthedocs.io/en/stable/user_install.html\n",
      "  from .autonotebook import tqdm as notebook_tqdm\n"
     ]
    }
   ],
   "source": [
    "import os\n",
    "import sys\n",
    "\n",
    "sys.path.append(os.path.join(os.getcwd(),\"..\"))\n",
    "\n",
    "import torch\n",
    "import torchvision\n",
    "from quanda.benchmarks.downstream_eval import ShortcutDetection, MislabelingDetection, SubclassDetection\n",
    "from quanda.explainers.wrappers import (\n",
    "    TRAK,\n",
    "    CaptumArnoldi,\n",
    "    CaptumSimilarity,\n",
    "    CaptumTracInCPFast,\n",
    "    RepresenterPoints,\n",
    ")\n",
    "\n"
   ]
  },
  {
   "cell_type": "code",
   "execution_count": 2,
   "id": "9f3d5ae4",
   "metadata": {},
   "outputs": [],
   "source": [
    "torch.set_float32_matmul_precision(\"medium\")\n",
    "to_img = torchvision.transforms.Compose([\n",
    "    torchvision.transforms.Normalize(mean=0.0, std=2.),\n",
    "    torchvision.transforms.Normalize(mean=-0.5, std=1.),\n",
    "    torchvision.transforms.ToPILImage(),\n",
    "    torchvision.transforms.Resize((224, 224)),])"
   ]
  },
  {
   "cell_type": "markdown",
   "id": "e1efc6e9",
   "metadata": {},
   "source": [
    "# Downloading Precomputed Benchmarks\n",
    "In this part of the tutorial, we will use the Shortcut Detection metric.\n",
    "\n",
    "We will use the benchmark corresponding to this metric to evaluate all data attributors currently included in quanda in terms of their ability to detect when the model is using a shortcut.\n",
    "\n",
    "We will download the precomputed MNIST benchmark. This includes an MNIST dataset which has shortcut features (an 8-by-8 white box on a specific location) on a subset of its samples from the class 0, and a model trained on this dataset. This model has learned to classify images with these features to the class 0, and we will measure the extent to which this is reflected in the attributions of different methods."
   ]
  },
  {
   "cell_type": "code",
   "execution_count": 4,
   "id": "1043f55a",
   "metadata": {},
   "outputs": [
    {
     "name": "stderr",
     "output_type": "stream",
     "text": [
      "/home/yolcu/Documents/Code/quanda/tutorials/../quanda/benchmarks/base.py:88: FutureWarning: You are using `torch.load` with `weights_only=False` (the current default value), which uses the default pickle module implicitly. It is possible to construct malicious pickle data which will execute arbitrary code during unpickling (See https://github.com/pytorch/pytorch/blob/main/SECURITY.md#untrusted-models for more details). In a future release, the default value for `weights_only` will be flipped to `True`. This limits the functions that could be executed during unpickling. Arbitrary objects will no longer be allowed to be loaded via this mode unless they are explicitly allowlisted by the user via `torch.serialization.add_safe_globals`. We recommend you start setting `weights_only=True` for any use case where you don't have full control of the loaded file. Please open an issue on GitHub for any issues related to this experimental feature.\n",
      "  return torch.load(os.path.join(cache_dir, name + \".pth\"), map_location=device)\n"
     ]
    }
   ],
   "source": [
    "cache_dir = str(os.path.join(os.getcwd(), \"quanda_benchmark_tutorial_cache\"))\n",
    "device=\"cuda\"\n",
    "benchmark = ShortcutDetection.download(\n",
    "    name=\"mnist_shortcut_detection\",\n",
    "    cache_dir=cache_dir,\n",
    "    device=device,\n",
    ")"
   ]
  },
  {
   "cell_type": "markdown",
   "id": "fe371b0c",
   "metadata": {},
   "source": [
    "The benchmark object contains all information about the controlled evaluation setup. Let's see some samples with the shortcut features, using benchmark.feature_dataset and benchmark.shortcut_indices. "
   ]
  },
  {
   "cell_type": "code",
   "execution_count": 4,
   "id": "e516d03e70a7710f",
   "metadata": {},
   "outputs": [
    {
     "data": {
      "image/jpeg": "[encoded data removed]",
      "image/png": "[encoded data removed]",
      "text/plain": [
       "<PIL.Image.Image image mode=RGB size=224x224>"
      ]
     },
     "execution_count": 4,
     "metadata": {},
     "output_type": "execute_result"
    }
   ],
   "source": [
    "shortcut_img = benchmark.shortcut_dataset[benchmark.shortcut_indices[15]][0]\n",
    "tensor_img=torch.concat([shortcut_img,shortcut_img,shortcut_img],dim=0)\n",
    "img=to_img(tensor_img)\n",
    "img"
   ]
  },
  {
   "cell_type": "code",
   "execution_count": 5,
   "id": "d2f4e896",
   "metadata": {},
   "outputs": [
    {
     "data": {
      "text/plain": [
       "tensor(0.9986)"
      ]
     },
     "execution_count": 5,
     "metadata": {},
     "output_type": "execute_result"
    }
   ],
   "source": [
    "predictions = []\n",
    "for i in benchmark.shortcut_indices:\n",
    "    x,y = benchmark.shortcut_dataset[i]\n",
    "    x=x.to(device)\n",
    "    benchmark.model(x[None])\n",
    "    predictions.append(benchmark.model(x[None]).argmax().item())\n",
    "predictions=torch.tensor(predictions)\n",
    "shortcut_rate=torch.mean((predictions==benchmark.shortcut_cls)*1.0)\n",
    "shortcut_rate"
   ]
  },
  {
   "cell_type": "markdown",
   "id": "ea369608",
   "metadata": {},
   "source": [
    "## Prepare initialization parameters for TDA methods\n",
    "\n",
    "We now prepare the initialization parameters of attributors: hyperparameters, and components from the benchmark as needed. Note that we do not provide the model and dataset to use for attribution, since those components will be supplied by the benchmark objects, while initializing the attributor during evaluation."
   ]
  },
  {
   "cell_type": "markdown",
   "id": "ddc91dc4",
   "metadata": {},
   "source": [
    "### Similarity Influence"
   ]
  },
  {
   "cell_type": "code",
   "execution_count": 6,
   "id": "c59e012a",
   "metadata": {},
   "outputs": [],
   "source": [
    "captum_similarity_args = {\n",
    "    \"model_id\": \"mnist_shortcut_detection_tutorial\",\n",
    "    \"layers\": \"model.fc_2\",\n",
    "    \"cache_dir\": os.path.join(cache_dir, \"captum_similarity\"),\n",
    "}"
   ]
  },
  {
   "cell_type": "markdown",
   "id": "87ef1e78",
   "metadata": {},
   "source": [
    "### Arnoldi Influence Functions\n",
    "\n",
    "Notice that the trained checkpoints have been saved to the `cache_dir` while downloading the benchmark. We can reach the paths of these checkpoints with `benchmark.checkpoint_paths`"
   ]
  },
  {
   "cell_type": "code",
   "execution_count": 7,
   "id": "9439b6d9",
   "metadata": {},
   "outputs": [],
   "source": [
    "hessian_num_samples=500 # number of samples to use for hessian estimation\n",
    "hessian_ds=torch.utils.data.Subset(benchmark.shortcut_dataset, torch.randint(0, len(benchmark.shortcut_dataset), (hessian_num_samples,)))\n",
    "\n",
    "captum_influence_args = {\n",
    "        \"checkpoint\": benchmark.checkpoint_paths[-1],\n",
    "        \"layers\": [\"model.fc_3\"],\n",
    "        \"batch_size\": 8,\n",
    "        \"hessian_dataset\": hessian_ds,\n",
    "        \"projection_dim\": 5,\n",
    "}"
   ]
  },
  {
   "cell_type": "markdown",
   "id": "a2fd5356",
   "metadata": {},
   "source": [
    "### TracInCP"
   ]
  },
  {
   "cell_type": "code",
   "execution_count": 8,
   "id": "7d3963d2",
   "metadata": {},
   "outputs": [],
   "source": [
    "captum_tracin_args = {\n",
    "    \"final_fc_layer\": \"model.fc_3\",\n",
    "    \"loss_fn\": torch.nn.CrossEntropyLoss(reduction=\"mean\"),\n",
    "    \"checkpoints\": benchmark.checkpoint_paths,\n",
    "    \"batch_size\": 8,\n",
    "}"
   ]
  },
  {
   "cell_type": "markdown",
   "id": "fe480a29",
   "metadata": {},
   "source": [
    "### TRAK"
   ]
  },
  {
   "cell_type": "code",
   "execution_count": 9,
   "id": "4430e5a8",
   "metadata": {},
   "outputs": [],
   "source": [
    "trak_args = {\n",
    "    \"model_id\": \"mnist_shortcut_detection\",\n",
    "    \"cache_dir\": os.path.join(cache_dir, \"trak\"),\n",
    "    \"batch_size\": 8,\n",
    "    \"proj_dim\": 2048,\n",
    "}"
   ]
  },
  {
   "cell_type": "markdown",
   "id": "0ea6de8e",
   "metadata": {},
   "source": [
    "### Representer Points Selection"
   ]
  },
  {
   "cell_type": "code",
   "execution_count": 10,
   "id": "5287f89e",
   "metadata": {},
   "outputs": [],
   "source": [
    "representer_points_args = {\n",
    "    \"model_id\": \"mnist_shortcut_detection\",\n",
    "    \"cache_dir\": os.path.join(cache_dir, \"representer_points\"),\n",
    "    \"batch_size\": 8,\n",
    "    \"features_layer\": \"model.relu_4\",\n",
    "    \"classifier_layer\": \"model.fc_3\",\n",
    "}"
   ]
  },
  {
   "cell_type": "markdown",
   "id": "417f773a",
   "metadata": {},
   "source": [
    "## Run the benchmark evaluation on the attributors\n",
    "Note that some attributors take a long time to initialize or compute attributions. For a proof of concept, we recommend using `CaptumSimilarity` or `RepresenterPoints`, or lowering the parameter values given above (i.e. using low `proj_dim` for TRAK or a low Hessian dataset size for Arnoldi Influence)"
   ]
  },
  {
   "cell_type": "code",
   "execution_count": 11,
   "id": "d020f5be",
   "metadata": {},
   "outputs": [],
   "source": [
    "attributors={\n",
    "    # please comment out the explainers you are not interested in\n",
    "    \"captum_similarity\": (CaptumSimilarity, captum_similarity_args),\n",
    "    #\"captum_arnoldi\" : (CaptumArnoldi, captum_influence_args),\n",
    "    #\"captum_tracin\" : (CaptumTracInCPFast, captum_tracin_args),\n",
    "    #\"trak\" : (TRAK, trak_args),\n",
    "    \"representer\" : (RepresenterPoints, representer_points_args),\n",
    "}"
   ]
  },
  {
   "cell_type": "code",
   "execution_count": 12,
   "id": "1b50409a",
   "metadata": {},
   "outputs": [
    {
     "name": "stderr",
     "output_type": "stream",
     "text": [
      "2024-09-30 20:17:53,321 - quanda.explainers.wrappers.captum_influence - INFO - Initializing Captum SimilarityInfluence explainer...\n",
      "Metric evaluation, batch 1/16:   0%|          | 0/16 [00:00<?, ?it/s]/home/yolcu/miniconda3/envs/quanda/lib/python3.11/site-packages/torch/__init__.py:955: UserWarning: torch.set_default_tensor_type() is deprecated as of PyTorch 2.1, please use torch.set_default_dtype() and torch.set_default_device() as alternatives. (Triggered internally at ../torch/csrc/tensor/python_tensor.cpp:432.)\n",
      "  _C._set_default_tensor_type(t)\n",
      "/home/yolcu/Documents/Code/quanda/tutorials/../quanda/utils/common.py:233: FutureWarning: You are using `torch.load` with `weights_only=False` (the current default value), which uses the default pickle module implicitly. It is possible to construct malicious pickle data which will execute arbitrary code during unpickling (See https://github.com/pytorch/pytorch/blob/main/SECURITY.md#untrusted-models for more details). In a future release, the default value for `weights_only` will be flipped to `True`. This limits the functions that could be executed during unpickling. Arbitrary objects will no longer be allowed to be loaded via this mode unless they are explicitly allowlisted by the user via `torch.serialization.add_safe_globals`. We recommend you start setting `weights_only=True` for any use case where you don't have full control of the loaded file. Please open an issue on GitHub for any issues related to this experimental feature.\n",
      "  return original_load(f, *args, **kwargs)\n",
      "Metric evaluation, batch 16/16: 100%|██████████| 16/16 [17:40<00:00, 66.28s/it]\n",
      "2024-09-30 20:36:12,570 - quanda.explainers.wrappers.representer_points - INFO - Initializing Representer Point Selection explainer...\n",
      "/home/yolcu/Documents/Code/quanda/tutorials/../quanda/explainers/wrappers/representer_points.py:118: UserWarning: This method is only a good idea for small datasets and small architectures. Otherwise, this will consume a lot of memory.\n",
      "  warnings.warn(\n",
      "Metric evaluation, batch 16/16: 100%|██████████| 16/16 [00:00<00:00, 130.08it/s]\n"
     ]
    }
   ],
   "source": [
    "results=dict()\n",
    "for name, (cls, kwargs) in attributors.items():\n",
    "    results[name] = benchmark.evaluate(\n",
    "        explainer_cls=cls,\n",
    "        expl_kwargs=kwargs,\n",
    "        batch_size=8\n",
    "    )[\"score\"]"
   ]
  },
  {
   "cell_type": "markdown",
   "id": "34c5981b",
   "metadata": {},
   "source": [
    "The `results` dictionary contains the results of the evaluation. The keys are the names of the explainers and the values are dictionaries containing the results."
   ]
  },
  {
   "cell_type": "code",
   "execution_count": 13,
   "id": "2bfdd374",
   "metadata": {},
   "outputs": [
    {
     "data": {
      "text/plain": [
       "{'captum_similarity': 0.41747230291366577, 'representer': 0.4443182349205017}"
      ]
     },
     "execution_count": 13,
     "metadata": {},
     "output_type": "execute_result"
    }
   ],
   "source": [
    "results"
   ]
  },
  {
   "cell_type": "markdown",
   "id": "1fe01197",
   "metadata": {},
   "source": [
    "# Assembling a benchmark from existing components"
   ]
  },
  {
   "cell_type": "markdown",
   "id": "59a1833a",
   "metadata": {},
   "source": [
    "You may want to handle the creation of each component differently, using different datasets, architectures, training paradigms or a higher/lower percentage of manipulated samples. We now showcase how to create and use a quanda `Benchmark` object to use these components in the evaluation process.\n",
    "\n",
    "To showcase different benchmarks, we will now switch to the `MislabelingDetection` benchmark. This benchmark evaluates the ability of data atttribution methods to identify mislabeled samples in the training dataset. This is done by training a model on a dataset which has a substantial amount of mislabeled samples. We then use the local data attribution methods to rank the training data. Original papers propose either using self-influence (i.e. the attribution of training samples on themselves) or some special methodology for each explainer (i.e. the global coefficients of the surrogate model in Representer Points). Quanda includes efficient implementation of self-influence or other strategies proposed in the original papers, whenever possible.\n",
    "\n",
    "This ranking is then used to go through the dataset to check mislabelings. Quanda computes the cumulative mislabeling detection curve and returns the AUC score with respect to this curve.\n",
    "\n",
    "Instead of creating the components from scratch, we will again download the benchmark and use collect the prepared components. We will then use the `MislabelingDetection.assemble` method to create the benchmark. Note that this is exactly what is happening when we are creating a benchmark using the `download` method."
   ]
  },
  {
   "cell_type": "code",
   "execution_count": 6,
   "id": "3812734a",
   "metadata": {},
   "outputs": [],
   "source": [
    "temp_benchmark = MislabelingDetection.download(\n",
    "    name=\"mnist_mislabeling_detection\",\n",
    "    cache_dir=cache_dir,\n",
    "    device=device,\n",
    ")"
   ]
  },
  {
   "cell_type": "markdown",
   "id": "eb9a2823",
   "metadata": {},
   "source": [
    "## Required Components\n",
    "\n",
    "In order to assemble a `MislabelingDetection` benchmark, we require the following components:\n",
    "- A base training dataset with correct labels.\n",
    "- A dictionary containing mislabeling information: integer keys are the indices of samples to change labels, and the values correspond to the new (wrong) labels that were used to train the model\n",
    "- A model trained on the mislabeled dataset\n",
    "- Number of classes in the dataset\n",
    "- Dataset transform that was used during training, applied to samples before feeding them to the model. If the base dataset already includes the transform, then we can just set this to `None`, which is the case in this tutorial. If the base dataset serves raw samples, then the `dataset_transform` parameter allows the usage of a transform.\n",
    "\n",
    "Let's collect these components from the downloaded benchmark. We then assemble the benchmark and evaluate the `RepresenterPoints` attributor with it. Note that the implementation depends on computing the self-influences of the whole training dataset. This procedure is fastest for the Representer Points attributor. Therefore, we use this explainer here."
   ]
  },
  {
   "cell_type": "code",
   "execution_count": 15,
   "id": "d860e0bb",
   "metadata": {},
   "outputs": [],
   "source": [
    "model=temp_benchmark.model\n",
    "base_dataset=temp_benchmark.base_dataset\n",
    "mislabeling_labels=temp_benchmark.mislabeling_labels\n",
    "dataset_transform=None"
   ]
  },
  {
   "cell_type": "markdown",
   "id": "f6793457",
   "metadata": {},
   "source": [
    "## Assembling the benchmark and running the evaluation"
   ]
  },
  {
   "cell_type": "code",
   "execution_count": 16,
   "id": "0ea26efd",
   "metadata": {},
   "outputs": [
    {
     "name": "stderr",
     "output_type": "stream",
     "text": [
      "2024-09-30 20:37:18,012 - quanda.explainers.wrappers.representer_points - INFO - Initializing Representer Point Selection explainer...\n",
      "2024-09-30 20:37:49,425 - quanda.explainers.wrappers.representer_points - INFO - Initializing Representer Point Selection explainer...\n"
     ]
    },
    {
     "data": {
      "text/plain": [
       "{'score': 0.6750942468643188,\n",
       " 'success_arr': tensor([False, False, False,  ..., False, False, False]),\n",
       " 'curve': tensor([0.0000e+00, 0.0000e+00, 0.0000e+00,  ..., 5.5907e-05, 5.5907e-05,\n",
       "         5.5907e-05])}"
      ]
     },
     "execution_count": 16,
     "metadata": {},
     "output_type": "execute_result"
    }
   ],
   "source": [
    "benchmark=MislabelingDetection.assemble(\n",
    "    model=model,\n",
    "    base_dataset=base_dataset,\n",
    "    n_classes=10,\n",
    "    mislabeling_labels=mislabeling_labels,\n",
    "    dataset_transform=dataset_transform,\n",
    "    device=device,\n",
    ")\n",
    "representer_points_args = {\n",
    "    \"model_id\": \"mnist_mislabeling_detection\",\n",
    "    \"cache_dir\": os.path.join(cache_dir, \"representer_points\"),\n",
    "    \"batch_size\": 8,\n",
    "    \"features_layer\": \"model.relu_4\",\n",
    "    \"classifier_layer\": \"model.fc_3\",\n",
    "}\n",
    "benchmark.evaluate(\n",
    "    explainer_cls=RepresenterPoints,\n",
    "    expl_kwargs=representer_points_args,\n",
    ")"
   ]
  },
  {
   "cell_type": "markdown",
   "id": "bf670fbc",
   "metadata": {},
   "source": [
    "# Generating a Benchmark from Scratch\n",
    "\n",
    "We will now showcase how a benchmark can be created from only vanilla components. Quanda takes in all requires components and generates the benchmark, including dataset manipulations and model training, if applicable. Then the benchmark can be used to evaluate different attributors. This is done through the `Benchmark.generate` method.\n",
    "\n",
    "We will go through this use-case with the `SubclassDetection` benchmark which groups classes of the base dataset into superclasses. A model is trained to predict these super classes, and the original labelhighest attributed datapoint for each test sample is observed. The benchmark expects this to be the same as the true class of the test sample. \n",
    "\n",
    "As such, we only need to provide these components to generate the benchmark:\n",
    "\n",
    "- a model for the architecture\n",
    "- a trainer: either a subclass instance of quanda's `BaseTrainer` or a Lightning `Trainer` object. If the trainer is a Lightning trainer, the `model` has to be a Lightning module. We will use a Lightning trainer with a Lightning module.\n",
    "- a base dataset\n",
    "- an evaluation dataset to be used as the test set for generating the attributions to evaluate\n",
    "- a dataset transform. As in the case of `MislabelingDetection` explained above, the `dataset_transform` parameter can be `None` if the `base_dataset` and `eval_dataset` already include the required sample transformations. \n",
    "- the number of superclasses we want to generate the benchmark. \n",
    "\n",
    "Additionally, we can provide a dictionary which embodies a specific class grouping, or just use the default \"random\" value to randomly assign classes into superclasses, which is the approach we will take in this tutorial. Note that we will collect the base and evaluation datasets from the corresponding precomputed benchmark for simplicity and reproducibility. As such, these datasets will already include the transform required for sample normalization, which means we will supply `dataset_transform=None`.\n",
    "\n",
    "Please note that calling `SubclassDetection.generate` will initiate model training, therefore it will potentially take a long time."
   ]
  },
  {
   "cell_type": "code",
   "execution_count": 17,
   "id": "d7028613",
   "metadata": {},
   "outputs": [
    {
     "name": "stderr",
     "output_type": "stream",
     "text": [
      "Trainer will use only 1 of 2 GPUs because it is running inside an interactive / notebook environment. You may try to set `Trainer(devices=2)` but please note that multi-GPU inside interactive / notebook environments is considered experimental and unstable. Your mileage may vary.\n",
      "GPU available: True (cuda), used: True\n",
      "TPU available: False, using: 0 TPU cores\n",
      "HPU available: False, using: 0 HPUs\n",
      "/home/yolcu/miniconda3/envs/quanda/lib/python3.11/site-packages/lightning/pytorch/trainer/connectors/logger_connector/logger_connector.py:75: Starting from v1.9.0, `tensorboardX` has been removed as a dependency of the `lightning.pytorch` package, due to potential conflicts with other packages in the ML ecosystem. For this reason, `logger=True` will use `CSVLogger` as the default logger, unless the `tensorboard` or `tensorboardX` packages are found. Please `pip install lightning[extra]` or one of them to enable TensorBoard support by default\n",
      "2024-09-30 20:38:21,231 - quanda.benchmarks.downstream_eval.subclass_detection - INFO - Generating Subclass Detection benchmark components based on passed arguments...\n",
      "/home/yolcu/miniconda3/envs/quanda/lib/python3.11/site-packages/lightning/pytorch/trainer/configuration_validator.py:70: You defined a `validation_step` but have no `val_dataloader`. Skipping val loop.\n",
      "LOCAL_RANK: 0 - CUDA_VISIBLE_DEVICES: [0,1]\n",
      "\n",
      "  | Name      | Type             | Params | Mode \n",
      "-------------------------------------------------------\n",
      "0 | model     | LeNet5           | 43.7 K | train\n",
      "1 | criterion | CrossEntropyLoss | 0      | train\n",
      "-------------------------------------------------------\n",
      "43.7 K    Trainable params\n",
      "0         Non-trainable params\n",
      "43.7 K    Total params\n",
      "0.175     Total estimated model params size (MB)\n",
      "/home/yolcu/miniconda3/envs/quanda/lib/python3.11/site-packages/lightning/pytorch/trainer/connectors/data_connector.py:424: The 'train_dataloader' does not have many workers which may be a bottleneck. Consider increasing the value of the `num_workers` argument` to `num_workers=63` in the `DataLoader` to improve performance.\n"
     ]
    },
    {
     "name": "stdout",
     "output_type": "stream",
     "text": [
      "Epoch 9: 100%|██████████| 7500/7500 [01:31<00:00, 81.78it/s, v_num=7, train_loss_step=0.000189, train_loss_epoch=0.00589]"
     ]
    },
    {
     "name": "stderr",
     "output_type": "stream",
     "text": [
      "`Trainer.fit` stopped: `max_epochs=10` reached.\n"
     ]
    },
    {
     "name": "stdout",
     "output_type": "stream",
     "text": [
      "Epoch 9: 100%|██████████| 7500/7500 [01:31<00:00, 81.77it/s, v_num=7, train_loss_step=0.000189, train_loss_epoch=0.00589]\n"
     ]
    }
   ],
   "source": [
    "from quanda.benchmarks.resources import pl_modules\n",
    "import lightning as L\n",
    "\n",
    "num_groups=2\n",
    "model=pl_modules[\"MnistModel\"](num_labels=num_groups, device=device)\n",
    "trainer = L.Trainer(max_epochs=10)\n",
    "dataset_transform = None\n",
    "\n",
    "#Collect base and evaluation datasets from a precomputed benchmark for simplicity, instead of creating the dataset objects from scratch\n",
    "base_dataset = temp_benchmark.base_dataset\n",
    "eval_dataset = temp_benchmark.eval_dataset\n",
    "\n",
    "\n",
    "benchmark=SubclassDetection.generate(\n",
    "    model=model,\n",
    "    trainer=trainer,\n",
    "    base_dataset=base_dataset,\n",
    "    eval_dataset=eval_dataset,\n",
    "    dataset_transform=dataset_transform,\n",
    "    n_classes=10,\n",
    "    n_groups=num_groups,\n",
    "    class_to_group=\"random\"\n",
    ")\n"
   ]
  },
  {
   "cell_type": "markdown",
   "id": "0bb54ba0",
   "metadata": {},
   "source": [
    "Now that we have trained the model on the MNIST dataset with randomly grouped classes, we finalize this tutorial by evaluating the `CaptumSimilarity` attributor:"
   ]
  },
  {
   "cell_type": "code",
   "execution_count": 7,
   "id": "e54ff456",
   "metadata": {},
   "outputs": [
    {
     "name": "stderr",
     "output_type": "stream",
     "text": [
      "2024-09-30 21:15:13,556 - quanda.explainers.wrappers.captum_influence - INFO - Initializing Captum SimilarityInfluence explainer...\n",
      "Metric evaluation, batch 1/16:   0%|          | 0/16 [00:00<?, ?it/s]/home/yolcu/miniconda3/envs/quanda/lib/python3.11/site-packages/torch/__init__.py:955: UserWarning: torch.set_default_tensor_type() is deprecated as of PyTorch 2.1, please use torch.set_default_dtype() and torch.set_default_device() as alternatives. (Triggered internally at ../torch/csrc/tensor/python_tensor.cpp:432.)\n",
      "  _C._set_default_tensor_type(t)\n",
      "/home/yolcu/Documents/Code/quanda/tutorials/../quanda/utils/common.py:233: FutureWarning: You are using `torch.load` with `weights_only=False` (the current default value), which uses the default pickle module implicitly. It is possible to construct malicious pickle data which will execute arbitrary code during unpickling (See https://github.com/pytorch/pytorch/blob/main/SECURITY.md#untrusted-models for more details). In a future release, the default value for `weights_only` will be flipped to `True`. This limits the functions that could be executed during unpickling. Arbitrary objects will no longer be allowed to be loaded via this mode unless they are explicitly allowlisted by the user via `torch.serialization.add_safe_globals`. We recommend you start setting `weights_only=True` for any use case where you don't have full control of the loaded file. Please open an issue on GitHub for any issues related to this experimental feature.\n",
      "  return original_load(f, *args, **kwargs)\n",
      "Metric evaluation, batch 16/16: 100%|██████████| 16/16 [14:52<00:00, 55.75s/it]\n"
     ]
    },
    {
     "data": {
      "text/plain": [
       "{'score': 0.3054291903972626}"
      ]
     },
     "execution_count": 7,
     "metadata": {},
     "output_type": "execute_result"
    }
   ],
   "source": [
    "benchmark.evaluate(\n",
    "    explainer_cls=CaptumSimilarity,\n",
    "    expl_kwargs={\n",
    "    \"model_id\": \"mnist_subclass_detection_tutorial\",\n",
    "    \"layers\": \"model.fc_2\",\n",
    "    \"cache_dir\": os.path.join(cache_dir, \"captum_similarity\"),\n",
    "}\n",
    ")"
   ]
  },
  {
   "cell_type": "code",
   "execution_count": null,
   "id": "6551bf2e",
   "metadata": {},
   "outputs": [],
   "source": []
  }
 ],
 "metadata": {
  "kernelspec": {
   "display_name": "Python 3 (ipykernel)",
   "language": "python",
   "name": "python3"
  },
  "language_info": {
   "codemirror_mode": {
    "name": "ipython",
    "version": 3
   },
   "file_extension": ".py",
   "mimetype": "text/x-python",
   "name": "python",
   "nbconvert_exporter": "python",
   "pygments_lexer": "ipython3",
   "version": "3.11.9"
  }
 },
 "nbformat": 4,
 "nbformat_minor": 5
}
